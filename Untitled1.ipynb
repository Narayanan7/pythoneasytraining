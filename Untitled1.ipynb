{
 "cells": [
  {
   "cell_type": "code",
   "execution_count": 14,
   "metadata": {
    "scrolled": true
   },
   "outputs": [
    {
     "name": "stdout",
     "output_type": "stream",
     "text": [
      "start\n",
      "Hello World\n",
      "Hello World\n",
      "Hello World\n",
      "Hello World\n",
      "Hello World\n",
      "Hello World\n",
      "Hello World\n",
      "Hello World\n",
      "Hello World\n",
      "Hello World\n",
      "Hello World\n",
      "Hello World\n",
      "Hello World\n",
      "Hello World\n",
      "Hello World\n",
      "Hello World\n",
      "Hello World\n",
      "Hello World\n",
      "Hello World\n",
      "Hello World\n",
      "End\n"
     ]
    }
   ],
   "source": [
    "print(\"start\")\n",
    "i=0\n",
    "while (i<20):\n",
    "    print (\"Hello World\")\n",
    "    i=i+1\n",
    "print(\"End\")"
   ]
  },
  {
   "cell_type": "code",
   "execution_count": 16,
   "metadata": {
    "scrolled": true
   },
   "outputs": [
    {
     "name": "stdout",
     "output_type": "stream",
     "text": [
      "Even\n",
      "0\n",
      "2\n",
      "4\n",
      "6\n",
      "8\n",
      "10\n",
      "12\n",
      "14\n",
      "16\n",
      "18\n",
      "20\n",
      "22\n",
      "24\n",
      "26\n",
      "28\n",
      "30\n",
      "32\n",
      "34\n",
      "36\n",
      "38\n",
      "40\n",
      "42\n",
      "44\n",
      "46\n",
      "48\n",
      "50\n",
      "52\n",
      "54\n",
      "56\n",
      "58\n",
      "60\n",
      "62\n",
      "64\n",
      "66\n",
      "68\n",
      "70\n",
      "72\n",
      "74\n",
      "76\n",
      "78\n",
      "80\n",
      "82\n",
      "84\n",
      "86\n",
      "88\n",
      "90\n",
      "92\n",
      "94\n",
      "96\n",
      "98\n",
      "Odd\n",
      "1\n",
      "3\n",
      "5\n",
      "7\n",
      "9\n",
      "11\n",
      "13\n",
      "15\n",
      "17\n",
      "19\n",
      "21\n",
      "23\n",
      "25\n",
      "27\n",
      "29\n",
      "31\n",
      "33\n",
      "35\n",
      "37\n",
      "39\n",
      "41\n",
      "43\n",
      "45\n",
      "47\n",
      "49\n",
      "51\n",
      "53\n",
      "55\n",
      "57\n",
      "59\n",
      "61\n",
      "63\n",
      "65\n",
      "67\n",
      "69\n",
      "71\n",
      "73\n",
      "75\n",
      "77\n",
      "79\n",
      "81\n",
      "83\n",
      "85\n",
      "87\n",
      "89\n",
      "91\n",
      "93\n",
      "95\n",
      "97\n",
      "99\n",
      "End\n"
     ]
    }
   ],
   "source": [
    "print(\"Even\")\n",
    "i=0\n",
    "while(i<100):\n",
    "        print(i)\n",
    "        i=i+2\n",
    "print (\"Odd\")\n",
    "j=1\n",
    "while(j<100):\n",
    "    print(j)\n",
    "    j=j+2\n",
    "print(\"End\")"
   ]
  },
  {
   "cell_type": "code",
   "execution_count": 20,
   "metadata": {
    "scrolled": true
   },
   "outputs": [
    {
     "ename": "NameError",
     "evalue": "name 'upper' is not defined",
     "output_type": "error",
     "traceback": [
      "\u001b[0;31m---------------------------------------------------------------------------\u001b[0m",
      "\u001b[0;31mNameError\u001b[0m                                 Traceback (most recent call last)",
      "\u001b[0;32m<ipython-input-20-d7184d593563>\u001b[0m in \u001b[0;36m<module>\u001b[0;34m()\u001b[0m\n\u001b[1;32m      1\u001b[0m \u001b[0mset1\u001b[0m\u001b[0;34m=\u001b[0m\u001b[0;34m{\u001b[0m\u001b[0;34m'a'\u001b[0m\u001b[0;34m,\u001b[0m\u001b[0;34m'b'\u001b[0m\u001b[0;34m,\u001b[0m\u001b[0;34m'c'\u001b[0m\u001b[0;34m,\u001b[0m\u001b[0;34m'd'\u001b[0m\u001b[0;34m}\u001b[0m\u001b[0;34m\u001b[0m\u001b[0m\n\u001b[0;32m----> 2\u001b[0;31m \u001b[0mupper\u001b[0m\u001b[0;34m(\u001b[0m\u001b[0mset1\u001b[0m\u001b[0;34m)\u001b[0m\u001b[0;34m\u001b[0m\u001b[0m\n\u001b[0m",
      "\u001b[0;31mNameError\u001b[0m: name 'upper' is not defined"
     ]
    }
   ],
   "source": [
    "set1={'a','b','c','d'}\n",
    "upper(set1)"
   ]
  },
  {
   "cell_type": "code",
   "execution_count": 22,
   "metadata": {
    "scrolled": true
   },
   "outputs": [
    {
     "name": "stdout",
     "output_type": "stream",
     "text": [
      "Enter the Number65\n",
      "65\n"
     ]
    },
    {
     "data": {
      "text/plain": [
       "str"
      ]
     },
     "execution_count": 22,
     "metadata": {},
     "output_type": "execute_result"
    }
   ],
   "source": [
    "a = input(\"Enter the Number\")\n",
    "int(a)\n",
    "print(a)\n",
    "type(a)"
   ]
  },
  {
   "cell_type": "code",
   "execution_count": 56,
   "metadata": {
    "scrolled": true
   },
   "outputs": [
    {
     "name": "stdout",
     "output_type": "stream",
     "text": [
      "Enter the number 1 13\n",
      "Enter the number 2 13\n",
      "Enter the number 3 45\n",
      "A is equal to B\n"
     ]
    }
   ],
   "source": [
    "a = input(\"Enter the number 1 \")\n",
    "a = int(a)\n",
    "b = input(\"Enter the number 2 \")\n",
    "b = int(b)\n",
    "c = input(\"Enter the number 3 \")\n",
    "c = int(c)\n",
    "if(a>b):\n",
    "    if(a>c):\n",
    "        print(a,\"is greater\")\n",
    "    elif:\n",
    "        print(c,\" is greater\")      \n",
    "else:\n",
    "    if(b>c):\n",
    "        print(b,\"is greater\")\n",
    "    else:\n",
    "        print(c, \"is greater\")\n"
   ]
  },
  {
   "cell_type": "markdown",
   "metadata": {},
   "source": [
    "a = input(\"Enter the number 1 \")\n",
    "int(a)\n",
    "b = input(\"Enter the number 2 \")\n",
    "int(b)\n",
    "c = input(\"Enter the number 3 \")\n",
    "int(c)\n",
    "if((a>b) and (a>c)):\n",
    "    print( a,\"is greater\")\n",
    "elif((b>a) and (b>c)):\n",
    "    print(b,\" is greater\")\n",
    "else:\n",
    "       print(c, \" Is greater\")"
   ]
  },
  {
   "cell_type": "code",
   "execution_count": 69,
   "metadata": {
    "scrolled": true
   },
   "outputs": [
    {
     "name": "stdout",
     "output_type": "stream",
     "text": [
      "Enter the number 1 12\n",
      "Enter the number 2 12\n",
      "Enter the number 3 4\n",
      "A s equal to B\n",
      "12 is greater\n"
     ]
    }
   ],
   "source": [
    "a = input(\"Enter the number 1 \")\n",
    "a = int(a)\n",
    "b = input(\"Enter the number 2 \")\n",
    "b = int(b)\n",
    "c = input(\"Enter the number 3 \")\n",
    "c = int(c)\n",
    "if(a==b==c):\n",
    "    print(\"A is equal to B equal to C\")\n",
    "elif(a==b):\n",
    "    print(\"A s equal to B\")\n",
    "elif(b==c):\n",
    "    print(\"B is equal to C\")\n",
    "elif(c==a):\n",
    "    print(\"C is equal to A\")\n",
    "\n",
    "if(a>b):\n",
    "    if(a>c):\n",
    "        print(a,\"is greater\")\n",
    "    else:\n",
    "        print(c,\" is greater\")      \n",
    "else:\n",
    "    if(b>c):\n",
    "        print(b,\"is greater\")\n",
    "    else:\n",
    "        print(c, \"is greater\")\n",
    "\n",
    "\n"
   ]
  },
  {
   "cell_type": "code",
   "execution_count": 67,
   "metadata": {
    "scrolled": true
   },
   "outputs": [
    {
     "name": "stdout",
     "output_type": "stream",
     "text": [
      "Enter the number 1 12\n",
      "Enter the number 2 12\n",
      "1.Addition\n",
      "2.Subtrction\n",
      "3.Multiplication\n",
      "4.Division\n",
      "Enter the choice 1\n",
      "Addition is 24\n"
     ]
    }
   ],
   "source": [
    "a = input(\"Enter the number 1 \")\n",
    "a = int(a)\n",
    "b = input(\"Enter the number 2 \")\n",
    "b = int(b)\n",
    "\n",
    "print(\"1.Addition\")\n",
    "print(\"2.Subtrction\")\n",
    "print(\"3.Multiplication\")\n",
    "print(\"4.Division\")\n",
    "c = input(\"Enter the choice \")\n",
    "c = int(c)\n",
    "if(c==1):\n",
    "    print(\"Addition is\", a+b)\n",
    "elif(c==2):\n",
    "    print(\"Subtraction is\", a-b)\n",
    "elif(c==3):\n",
    "    print(\"Multiplication is\", a*b)\n",
    "elif(c==4):\n",
    "    print(\"division is\", a/b)\n",
    "else:\n",
    "    print(\"Enter correct number 1 to 4\")\n",
    "\n",
    "\n"
   ]
  },
  {
   "cell_type": "code",
   "execution_count": 100,
   "metadata": {
    "scrolled": true
   },
   "outputs": [
    {
     "name": "stdout",
     "output_type": "stream",
     "text": [
      "enter the size of a list5\n",
      "Enter the number21\n",
      "Enter the number32\n",
      "Enter the number54\n",
      "Enter the number65\n",
      "Enter the number78\n",
      "biggest number in the list is: 78\n"
     ]
    }
   ],
   "source": [
    "l=[]\n",
    "num = int(input(\"enter the size of a list\"))\n",
    "for i in range(0,num):\n",
    "    k=input(\"Enter the number\")\n",
    "    l.append(k)\n",
    "a=0\n",
    "b=1\n",
    "for j in range(0,num):\n",
    "    if(b == num):\n",
    "        break\n",
    "    if(l[b] > l[a]):\n",
    "        l[a]=l[b]\n",
    "    b = b+1\n",
    "print (\"biggest number in the list is:\",l[a])\n",
    "    "
   ]
  },
  {
   "cell_type": "code",
   "execution_count": 84,
   "metadata": {
    "scrolled": true
   },
   "outputs": [
    {
     "name": "stdout",
     "output_type": "stream",
     "text": [
      "7\n"
     ]
    }
   ],
   "source": [
    "l=[1,2,3,4,5,\"hello\",\"hi\"]\n",
    "j=0\n",
    "for i in l:\n",
    "    j=j+1\n",
    "print (j)\n",
    "\n"
   ]
  },
  {
   "cell_type": "code",
   "execution_count": 87,
   "metadata": {
    "scrolled": true
   },
   "outputs": [
    {
     "name": "stdout",
     "output_type": "stream",
     "text": [
      "Enter the string : Narayanan\n",
      "9\n"
     ]
    }
   ],
   "source": [
    "s = input(\"Enter the string : \")\n",
    "j=0\n",
    "for i in s:\n",
    "    j = j+1\n",
    "print(j)"
   ]
  },
  {
   "cell_type": "code",
   "execution_count": 92,
   "metadata": {
    "scrolled": true
   },
   "outputs": [
    {
     "name": "stdout",
     "output_type": "stream",
     "text": [
      "Enter the string : narayanan\n",
      "4\n"
     ]
    }
   ],
   "source": [
    "s = input(\"Enter the string : \")\n",
    "j=0\n",
    "for i in s:\n",
    "    if ((i == 'a') or (i == 'e') or (i == 'i') or (i == 'o') or (i == 'u')):\n",
    "        j = j+1\n",
    "print(j)\n",
    "        "
   ]
  },
  {
   "cell_type": "code",
   "execution_count": 116,
   "metadata": {
    "scrolled": true
   },
   "outputs": [
    {
     "name": "stdout",
     "output_type": "stream",
     "text": [
      "2450\n",
      "11\n"
     ]
    }
   ],
   "source": [
    "a=0\n",
    "for i in range(0,100):\n",
    "    if (i%2==0):\n",
    "        a=a+i\n",
    "print(a)\n",
    "b=str(a)\n",
    "a=int(a)\n",
    "c=len(b)\n",
    "l=0\n",
    "for j in range(0,c):\n",
    "    k=a%10\n",
    "    a=int(a/10)\n",
    "    l=l+k\n",
    "print(l)\n",
    "\n",
    "\n",
    " "
   ]
  },
  {
   "cell_type": "code",
   "execution_count": 122,
   "metadata": {
    "scrolled": true
   },
   "outputs": [
    {
     "name": "stdout",
     "output_type": "stream",
     "text": [
      "Enter the numbernarayanan\n",
      "N\n",
      "a\n",
      "R\n",
      "a\n",
      "Y\n",
      "a\n",
      "N\n",
      "a\n",
      "N\n"
     ]
    }
   ],
   "source": [
    "s=input(\"Enter the Name: \")\n",
    "j=0\n",
    "for i in s:\n",
    "    if(j%2 == 0):\n",
    "        print(i.upper())\n",
    "        j=j+1\n",
    "    else:\n",
    "        print(i.lower())\n",
    "        j=j+1"
   ]
  },
  {
   "cell_type": "code",
   "execution_count": 130,
   "metadata": {
    "scrolled": true
   },
   "outputs": [
    {
     "name": "stdout",
     "output_type": "stream",
     "text": [
      "Press Y to start,N to Exit: N\n"
     ]
    }
   ],
   "source": [
    "import random\n",
    "l=[]\n",
    "i=0\n",
    "j=0\n",
    "while (i==0):\n",
    "    a = input(\"Press Y to start,N to Exit: \")\n",
    "    if(a == 'N'):\n",
    "        break;\n",
    "    elif(a == 'Y'):\n",
    "        for x in range(1):\n",
    "              print (random.randint(1,6))\n",
    "    else:\n",
    "        print (\"Type only Y or N\")\n",
    "\n",
    "      "
   ]
  },
  {
   "cell_type": "code",
   "execution_count": 138,
   "metadata": {
    "scrolled": true
   },
   "outputs": [
    {
     "name": "stdout",
     "output_type": "stream",
     "text": [
      "enter the size of a list4\n",
      "Enter the number12\n",
      "Enter the number11\n",
      "Enter the number34\n",
      "Enter the number23\n",
      "Maximum Number is :  34\n",
      "Minimum Number is :  11\n",
      "11 34\n"
     ]
    }
   ],
   "source": [
    "l=[]\n",
    "num = int(input(\"enter the size of a list\"))\n",
    "for i in range(0,num):\n",
    "    k=input(\"Enter the number\")\n",
    "    l.append(k)\n",
    "a=0\n",
    "b=1\n",
    "for j in range(0,num):\n",
    "    if(b == num):\n",
    "        break\n",
    "    if(l[b] > l[a]):\n",
    "        l[a]=l[b]\n",
    "    b = b+1\n",
    "print (\"Maximum Number is : \",l[a])\n",
    "a=0\n",
    "b=1\n",
    "for j in range(0,num):\n",
    "    if(b == num):\n",
    "        break\n",
    "    if(l[b] < l[a]):\n",
    "        l[a]=l[b]\n",
    "    b = b+1\n",
    "print (\"Minimum Number is : \",l[a])\n",
    "l.sort()\n",
    "print(l[0],l[-1])"
   ]
  },
  {
   "cell_type": "code",
   "execution_count": 149,
   "metadata": {
    "scrolled": true
   },
   "outputs": [],
   "source": [
    "def sqr(i):\n",
    "    return i*i\n",
    "    "
   ]
  },
  {
   "cell_type": "code",
   "execution_count": 141,
   "metadata": {
    "scrolled": true
   },
   "outputs": [
    {
     "name": "stdout",
     "output_type": "stream",
     "text": [
      "100\n"
     ]
    }
   ],
   "source": [
    "sqr(10)"
   ]
  },
  {
   "cell_type": "code",
   "execution_count": 150,
   "metadata": {
    "scrolled": true
   },
   "outputs": [
    {
     "name": "stdout",
     "output_type": "stream",
     "text": [
      "enter the size of a list4\n",
      "Enter the number2\n",
      "Enter the number4\n",
      "Enter the number3\n",
      "Enter the number2\n",
      "[2, 4, 3, 2]\n",
      "4\n",
      "16\n",
      "9\n",
      "4\n"
     ]
    }
   ],
   "source": [
    "l=[]\n",
    "num = int(input(\"enter the size of a list\"))\n",
    "for i in range(0,num):\n",
    "    k=int(input(\"Enter the number\"))\n",
    "    l.append(k)\n",
    "print(l)\n",
    "for j in l:\n",
    "    result = sqr(j)\n",
    "    print(result)"
   ]
  },
  {
   "cell_type": "code",
   "execution_count": 161,
   "metadata": {
    "scrolled": true
   },
   "outputs": [],
   "source": [
    "def greetings(name,a=\"hello\"): #default arguments\n",
    "    print(a.upper(),name)"
   ]
  },
  {
   "cell_type": "code",
   "execution_count": 162,
   "metadata": {
    "scrolled": true
   },
   "outputs": [
    {
     "name": "stdout",
     "output_type": "stream",
     "text": [
      "HELLO Narayanan\n",
      "HI Narayanan\n"
     ]
    }
   ],
   "source": [
    "greetings('Narayanan')\n",
    "greetings(\"Narayanan\",\"hi\")"
   ]
  },
  {
   "cell_type": "code",
   "execution_count": 175,
   "metadata": {
    "scrolled": true
   },
   "outputs": [
    {
     "name": "stdout",
     "output_type": "stream",
     "text": [
      "10\n"
     ]
    }
   ],
   "source": [
    "def add(i):   #passing the list as an argument\n",
    "    result=0\n",
    "    for a in i:\n",
    "        result=result+a\n",
    "    return result\n",
    "l=[1,2,3,4]\n",
    "a=add(l)\n",
    "print(a)\n"
   ]
  },
  {
   "cell_type": "code",
   "execution_count": 177,
   "metadata": {
    "scrolled": true
   },
   "outputs": [],
   "source": [
    "def add(*args):   #when you dont know the number of arguments. Python's way of function overloading.\n",
    "    result = 0\n",
    "    for i in args:     #invoke for loop to define the elements in args\n",
    "        print(i)\n",
    "        result=result+i\n",
    "    return result"
   ]
  },
  {
   "cell_type": "code",
   "execution_count": 172,
   "metadata": {
    "scrolled": true
   },
   "outputs": [
    {
     "name": "stdout",
     "output_type": "stream",
     "text": [
      "1\n",
      "2\n",
      "3\n",
      "4\n"
     ]
    },
    {
     "data": {
      "text/plain": [
       "10"
      ]
     },
     "execution_count": 172,
     "metadata": {},
     "output_type": "execute_result"
    }
   ],
   "source": [
    "add(1,2,3,4)"
   ]
  },
  {
   "cell_type": "code",
   "execution_count": 179,
   "metadata": {
    "scrolled": true
   },
   "outputs": [
    {
     "name": "stdout",
     "output_type": "stream",
     "text": [
      "1\n",
      "2\n",
      "3\n",
      "4\n",
      "5\n",
      "6\n"
     ]
    },
    {
     "data": {
      "text/plain": [
       "21"
      ]
     },
     "execution_count": 179,
     "metadata": {},
     "output_type": "execute_result"
    }
   ],
   "source": [
    "arr=[1,2,3,4,5,6]\n",
    "add(*arr)    #this is how you pass a list to *args function. this will add the elements in a array"
   ]
  },
  {
   "cell_type": "code",
   "execution_count": 183,
   "metadata": {
    "scrolled": true
   },
   "outputs": [
    {
     "name": "stdout",
     "output_type": "stream",
     "text": [
      "10 20\n",
      "20 10\n"
     ]
    }
   ],
   "source": [
    "#swapping Variables\n",
    "a,b = 10,20 #tuple is used to assign operators like this\n",
    "print(a,b)\n",
    "\n",
    "a,b = b,a   #swapping is as simple as this, the tuple is used to achieve this\n",
    "\n",
    "print(a,b)"
   ]
  },
  {
   "cell_type": "code",
   "execution_count": 184,
   "metadata": {
    "scrolled": true
   },
   "outputs": [
    {
     "name": "stdout",
     "output_type": "stream",
     "text": [
      "1 2 3\n"
     ]
    }
   ],
   "source": [
    "a = (1,2,3) #tuple is created\n",
    "b,c,d = a #tuple is unpacked and assigned to respresent values\n",
    "print (b,c,d) #each variable wil have the value of each tuple"
   ]
  },
  {
   "cell_type": "code",
   "execution_count": 191,
   "metadata": {
    "scrolled": true
   },
   "outputs": [
    {
     "ename": "TypeError",
     "evalue": "list indices must be integers or slices, not tuple",
     "output_type": "error",
     "traceback": [
      "\u001b[0;31m---------------------------------------------------------------------------\u001b[0m",
      "\u001b[0;31mTypeError\u001b[0m                                 Traceback (most recent call last)",
      "\u001b[0;32m<ipython-input-191-acd4a0101491>\u001b[0m in \u001b[0;36m<module>\u001b[0;34m()\u001b[0m\n\u001b[1;32m      5\u001b[0m     \u001b[0;32mif\u001b[0m\u001b[0;34m(\u001b[0m\u001b[0mb\u001b[0m \u001b[0;34m==\u001b[0m \u001b[0mlen\u001b[0m\u001b[0;34m(\u001b[0m\u001b[0marr\u001b[0m\u001b[0;34m)\u001b[0m\u001b[0;34m)\u001b[0m\u001b[0;34m:\u001b[0m\u001b[0;34m\u001b[0m\u001b[0m\n\u001b[1;32m      6\u001b[0m         \u001b[0;32mbreak\u001b[0m\u001b[0;34m\u001b[0m\u001b[0m\n\u001b[0;32m----> 7\u001b[0;31m     \u001b[0;32mif\u001b[0m\u001b[0;34m(\u001b[0m\u001b[0marr\u001b[0m\u001b[0;34m[\u001b[0m\u001b[0mb\u001b[0m\u001b[0;34m]\u001b[0m \u001b[0;34m>\u001b[0m \u001b[0marr\u001b[0m\u001b[0;34m[\u001b[0m\u001b[0ma\u001b[0m\u001b[0;34m]\u001b[0m\u001b[0;34m)\u001b[0m\u001b[0;34m:\u001b[0m\u001b[0;34m\u001b[0m\u001b[0m\n\u001b[0m\u001b[1;32m      8\u001b[0m         \u001b[0marr\u001b[0m\u001b[0;34m[\u001b[0m\u001b[0ma\u001b[0m\u001b[0;34m]\u001b[0m\u001b[0;34m=\u001b[0m\u001b[0marr\u001b[0m\u001b[0;34m[\u001b[0m\u001b[0mb\u001b[0m\u001b[0;34m]\u001b[0m\u001b[0;34m\u001b[0m\u001b[0m\n\u001b[1;32m      9\u001b[0m     \u001b[0mb\u001b[0m \u001b[0;34m=\u001b[0m \u001b[0mb\u001b[0m\u001b[0;34m+\u001b[0m\u001b[0;36m1\u001b[0m\u001b[0;34m\u001b[0m\u001b[0m\n",
      "\u001b[0;31mTypeError\u001b[0m: list indices must be integers or slices, not tuple"
     ]
    }
   ],
   "source": [
    "def min_max(arr):\n",
    "    a=0\n",
    "    b=1\n",
    "for i in arr:\n",
    "    if(b == len(arr)):\n",
    "        break\n",
    "    if(arr[b] > arr[a]):\n",
    "        arr[a]=arr[b]\n",
    "    b = b+1\n",
    "mini=arr[a]\n",
    "a=0\n",
    "b=1\n",
    "for j in arr:\n",
    "    if(b == len(arr)):\n",
    "        break\n",
    "    if(arr[b] < arr[a]):\n",
    "        arr[a]=arr[b]\n",
    "    b = b+1\n",
    "maxi = arr[a]\n",
    "\n",
    "return mini,maxi\n",
    "\n",
    "mini,maxi=min_max([1,2,3,4,5,6,0,20])\n",
    "print (mini,maxi)\n",
    "    "
   ]
  },
  {
   "cell_type": "code",
   "execution_count": 189,
   "metadata": {
    "scrolled": true
   },
   "outputs": [
    {
     "name": "stdout",
     "output_type": "stream",
     "text": [
      "0 20\n"
     ]
    }
   ],
   "source": [
    "def min_max(arr):\n",
    "    return min(arr),max(arr)\n",
    "mini,maxi=min_max([1,2,3,4,5,6,0,20])\n",
    "print (mini,maxi)\n",
    "min?"
   ]
  },
  {
   "cell_type": "code",
   "execution_count": 195,
   "metadata": {
    "scrolled": true
   },
   "outputs": [
    {
     "name": "stdout",
     "output_type": "stream",
     "text": [
      "1\n"
     ]
    }
   ],
   "source": [
    "s = [\"hi\",\"Hello\",\"why\",\"test\",\"Simple\",\"exam\",\"hi\",\"how\",\"none\",\"how\"]\n",
    "def word_count(a,predicate):\n",
    "    x=0\n",
    "    for i in a:\n",
    "        if ( predicate == i):\n",
    "            x=x+1\n",
    "    return x\n",
    "\n",
    "print(word_count(s,\"test\"))"
   ]
  },
  {
   "cell_type": "code",
   "execution_count": 201,
   "metadata": {
    "scrolled": true
   },
   "outputs": [
    {
     "name": "stdout",
     "output_type": "stream",
     "text": [
      "True\n"
     ]
    }
   ],
   "source": [
    "s = [\"hi\",\"Hello\",\"why\",\"test\",\"Simple\",\"exam\",\"hi\",\"how\",\"none\",\"how\"]\n",
    "def search_word(a,searchword):\n",
    "    result = False\n",
    "    for i in a:\n",
    "        if (searchword == i):\n",
    "            return True\n",
    "    return result\n",
    "print(search_word(s,\"hi\"))\n",
    "    "
   ]
  },
  {
   "cell_type": "code",
   "execution_count": 203,
   "metadata": {
    "scrolled": true
   },
   "outputs": [
    {
     "name": "stdout",
     "output_type": "stream",
     "text": [
      "6\n"
     ]
    }
   ],
   "source": [
    "# you can pass functions as arguments\n",
    "def calculator(a,b,oper):\n",
    "    print(oper(a,b))\n",
    "def sub(i,j):\n",
    "    return i-j\n",
    "def mul(i,j):\n",
    "    return i*j\n",
    "calculator(2,3,mul)   #passing the mul function as Parameter for calculator function\n"
   ]
  },
  {
   "cell_type": "code",
   "execution_count": 208,
   "metadata": {
    "scrolled": true
   },
   "outputs": [
    {
     "data": {
      "text/plain": [
       "4380"
      ]
     },
     "execution_count": 208,
     "metadata": {},
     "output_type": "execute_result"
    }
   ],
   "source": [
    "#lambda is a anonymous function and only called at the time\n",
    "a= lambda x,y,z:x+y-z\n",
    "a(4576,7458,7654)"
   ]
  },
  {
   "cell_type": "code",
   "execution_count": 11,
   "metadata": {
    "scrolled": true
   },
   "outputs": [
    {
     "name": "stdout",
     "output_type": "stream",
     "text": [
      "[50, 70, 90]\n"
     ]
    }
   ],
   "source": [
    "l=[25,35,45]\n",
    "m=(map(lambda x:x*2,l)) #list(map()) --> this is used to get the value of the result of the map.\n",
    "type(m) #here M is a variable of object map\n",
    "print(list(m)) #use list to print a map, the object will only be executed when you use list\n"
   ]
  },
  {
   "cell_type": "code",
   "execution_count": 28,
   "metadata": {
    "scrolled": true
   },
   "outputs": [
    {
     "name": "stdout",
     "output_type": "stream",
     "text": [
      "multiplying 1\n",
      "multi\n",
      "multiplying 2\n",
      "multi\n",
      "multiplying 3\n",
      "multi\n",
      "multiplying 4\n",
      "multi\n",
      "multiplying 5\n",
      "multi\n"
     ]
    },
    {
     "data": {
      "text/plain": [
       "[2, 4, 6, 8, 10]"
      ]
     },
     "execution_count": 28,
     "metadata": {},
     "output_type": "execute_result"
    }
   ],
   "source": [
    "def mul(i):\n",
    "    print (\"multiplying\",i)\n",
    "    print(\"multi\")\n",
    "    return i*2\n",
    "c = map(mul,[1,2,3,4,5])\n",
    "d = list(c)\n",
    "d\n",
    "\n"
   ]
  },
  {
   "cell_type": "code",
   "execution_count": 29,
   "metadata": {
    "scrolled": true
   },
   "outputs": [
    {
     "data": {
      "text/plain": [
       "[33]"
      ]
     },
     "execution_count": 29,
     "metadata": {},
     "output_type": "execute_result"
    }
   ],
   "source": [
    "c = filter(lambda x:x>20,[1,2,3,4,5,33]) #filter function\n",
    "list(c)"
   ]
  },
  {
   "cell_type": "code",
   "execution_count": 30,
   "metadata": {
    "scrolled": false
   },
   "outputs": [
    {
     "data": {
      "text/plain": [
       "[10, 15, 20]"
      ]
     },
     "execution_count": 30,
     "metadata": {},
     "output_type": "execute_result"
    }
   ],
   "source": [
    "f = filter(lambda x : x%5 ==0,[10,15,20,24,34])\n",
    "list(f)"
   ]
  },
  {
   "cell_type": "code",
   "execution_count": 41,
   "metadata": {
    "scrolled": false
   },
   "outputs": [
    {
     "data": {
      "text/plain": [
       "str"
      ]
     },
     "execution_count": 41,
     "metadata": {},
     "output_type": "execute_result"
    }
   ],
   "source": [
    "#reduce function is part of functools\n",
    "from functools import reduce\n",
    "r = reduce(lambda x,y:x+y,['a','b','c','d'])\n",
    "type(r)\n"
   ]
  },
  {
   "cell_type": "code",
   "execution_count": 42,
   "metadata": {
    "scrolled": true
   },
   "outputs": [],
   "source": [
    "class MyClass:\n",
    "    variable = \"blah\"\n",
    "    \n",
    "    def welcome(self):\n",
    "        print(\"This is a message inside the class : \" , self.variable)"
   ]
  },
  {
   "cell_type": "code",
   "execution_count": 50,
   "metadata": {
    "scrolled": true
   },
   "outputs": [
    {
     "name": "stdout",
     "output_type": "stream",
     "text": [
      "yackity\n",
      "blah\n",
      "This is a message inside the class :  yackity\n",
      "This is a message inside the class :  blah\n",
      "yackity\n",
      "This is a message inside the class :  yackity\n"
     ]
    }
   ],
   "source": [
    "#constructing an object\n",
    "#myobjectx=MyClass()\n",
    "myobjecty=MyClass()\n",
    "\n",
    "#print the variables\n",
    "print(myobjectx.variable)\n",
    "print(myobjecty.variable)\n",
    "\n",
    "myobjectx.welcome()\n",
    "myobjecty.welcome()\n",
    "\n",
    "myobjectx.variable=\"yackity\"\n",
    "print(myobjectx.variable)\n",
    "myobjectx.welcome()\n",
    "\n"
   ]
  },
  {
   "cell_type": "code",
   "execution_count": 53,
   "metadata": {
    "scrolled": true
   },
   "outputs": [
    {
     "name": "stdout",
     "output_type": "stream",
     "text": [
      "init started\n",
      "init started\n",
      "Narayanan  is working\n",
      "NK  is working\n"
     ]
    }
   ],
   "source": [
    "class employee:\n",
    "    def __init__ (self,name,age,salary):\n",
    "        print(\"init started\")\n",
    "        self.name = name\n",
    "        self.age = age\n",
    "        self.salary = salary\n",
    "    def work(self):\n",
    "        print(self.name , \" is working\")\n",
    "\n",
    "emp1 = employee(\"Narayanan\",27,2000)\n",
    "emp2 = employee(\"NK\",27,4000)\n",
    "emp1.work()\n",
    "emp2.work()\n",
    "        "
   ]
  },
  {
   "cell_type": "code",
   "execution_count": 56,
   "metadata": {
    "scrolled": true
   },
   "outputs": [
    {
     "name": "stdout",
     "output_type": "stream",
     "text": [
      "Narayanan  is working\n",
      "NK  is working\n"
     ]
    }
   ],
   "source": [
    "emplist = list()\n",
    "emplist.append(emp1)\n",
    "emplist.append(emp2)\n",
    "for i in emplist:\n",
    "    i.work()"
   ]
  },
  {
   "cell_type": "code",
   "execution_count": 62,
   "metadata": {
    "scrolled": true
   },
   "outputs": [
    {
     "name": "stdout",
     "output_type": "stream",
     "text": [
      "NK 20 45\n"
     ]
    }
   ],
   "source": [
    "class Students:\n",
    "    def __init__(self,name,age,marks):\n",
    "        self.name=name\n",
    "        self.age=age\n",
    "        self.marks=marks\n",
    "stu1 = Students(\"Narayanan\",17,100)\n",
    "stu2 = Students(\"NK\",20,45)\n",
    "stu3 = Students(\"Basha\",20,50)\n",
    "stu4 = Students(\"Ranga\",14,100)\n",
    "stu5 = Students(\"Linga\",20,100)\n",
    "\n",
    "stulist = list()\n",
    "stulist.append(stu1)\n",
    "stulist.append(stu2)\n",
    "stulist.append(stu3)\n",
    "stulist.append(stu4)\n",
    "stulist.append(stu5)\n",
    "\n",
    "a = list(filter(lambda x:x.age > 15 and x.marks < 50, stulist))\n",
    "for i in a:\n",
    "    print(i.name,i.age,i.marks)\n"
   ]
  },
  {
   "cell_type": "code",
   "execution_count": 2,
   "metadata": {
    "scrolled": true
   },
   "outputs": [
    {
     "ename": "TypeError",
     "evalue": "'list' object is not callable",
     "output_type": "error",
     "traceback": [
      "\u001b[0;31m---------------------------------------------------------------------------\u001b[0m",
      "\u001b[0;31mTypeError\u001b[0m                                 Traceback (most recent call last)",
      "\u001b[0;32m<ipython-input-2-becc171342e6>\u001b[0m in \u001b[0;36m<module>\u001b[0;34m()\u001b[0m\n\u001b[1;32m      4\u001b[0m \u001b[0;32mfor\u001b[0m \u001b[0mi\u001b[0m \u001b[0;32min\u001b[0m \u001b[0mrange\u001b[0m\u001b[0;34m(\u001b[0m\u001b[0;36m0\u001b[0m\u001b[0;34m,\u001b[0m\u001b[0mlen\u001b[0m\u001b[0;34m(\u001b[0m\u001b[0ml1\u001b[0m\u001b[0;34m)\u001b[0m\u001b[0;34m)\u001b[0m\u001b[0;34m:\u001b[0m\u001b[0;34m\u001b[0m\u001b[0m\n\u001b[1;32m      5\u001b[0m     \u001b[0mx\u001b[0m\u001b[0;34m=\u001b[0m\u001b[0;36m0\u001b[0m\u001b[0;34m\u001b[0m\u001b[0m\n\u001b[0;32m----> 6\u001b[0;31m     \u001b[0mx\u001b[0m \u001b[0;34m=\u001b[0m \u001b[0ml1\u001b[0m\u001b[0;34m(\u001b[0m\u001b[0mi\u001b[0m\u001b[0;34m)\u001b[0m \u001b[0;34m+\u001b[0m \u001b[0ml2\u001b[0m\u001b[0;34m(\u001b[0m\u001b[0mi\u001b[0m\u001b[0;34m)\u001b[0m\u001b[0;34m\u001b[0m\u001b[0m\n\u001b[0m\u001b[1;32m      7\u001b[0m     \u001b[0ml3\u001b[0m\u001b[0;34m.\u001b[0m\u001b[0mappend\u001b[0m\u001b[0;34m(\u001b[0m\u001b[0mx\u001b[0m\u001b[0;34m)\u001b[0m\u001b[0;34m\u001b[0m\u001b[0m\n\u001b[1;32m      8\u001b[0m \u001b[0mprint\u001b[0m\u001b[0;34m(\u001b[0m\u001b[0ml3\u001b[0m\u001b[0;34m)\u001b[0m\u001b[0;34m\u001b[0m\u001b[0m\n",
      "\u001b[0;31mTypeError\u001b[0m: 'list' object is not callable"
     ]
    }
   ],
   "source": [
    "l1 = [1,2,3]\n",
    "l2 = [2,3,4]\n",
    "l3 =[]\n",
    "for i in range(0,len(l1)):\n",
    "    x=0\n",
    "    x = l1(i) + l2(i)\n",
    "    l3.append(x)\n",
    "print(l3)"
   ]
  },
  {
   "cell_type": "code",
   "execution_count": 19,
   "metadata": {
    "scrolled": true
   },
   "outputs": [
    {
     "data": {
      "text/plain": [
       "dtype('int64')"
      ]
     },
     "execution_count": 19,
     "metadata": {},
     "output_type": "execute_result"
    }
   ],
   "source": [
    "import numpy as np\n",
    "a = np.array([1,2,3,4,5,6,7,8,9])\n",
    "b = a.reshape(3,3)\n",
    "len(b)\n",
    "b.ndim\n",
    "b.size\n",
    "b.dtype"
   ]
  },
  {
   "cell_type": "code",
   "execution_count": 11,
   "metadata": {
    "scrolled": true
   },
   "outputs": [
    {
     "data": {
      "text/plain": [
       "[3, 4, 5]"
      ]
     },
     "execution_count": 11,
     "metadata": {},
     "output_type": "execute_result"
    }
   ],
   "source": [
    "l1=[1,2,3,4,5]\n",
    "l1[0]\n",
    "l1[:]\n",
    "l1[2:5]"
   ]
  },
  {
   "cell_type": "code",
   "execution_count": 12,
   "metadata": {
    "scrolled": true
   },
   "outputs": [
    {
     "ename": "SyntaxError",
     "evalue": "not a chance (<ipython-input-12-6d5c5b2f0daf>, line 1)",
     "output_type": "error",
     "traceback": [
      "\u001b[0;36m  File \u001b[0;32m\"<ipython-input-12-6d5c5b2f0daf>\"\u001b[0;36m, line \u001b[0;32m1\u001b[0m\n\u001b[0;31m    from __future__ import braces\u001b[0m\n\u001b[0m                                 ^\u001b[0m\n\u001b[0;31mSyntaxError\u001b[0m\u001b[0;31m:\u001b[0m not a chance\n"
     ]
    }
   ],
   "source": [
    "from __future__ import braces"
   ]
  },
  {
   "cell_type": "code",
   "execution_count": 30,
   "metadata": {
    "scrolled": false
   },
   "outputs": [
    {
     "name": "stdout",
     "output_type": "stream",
     "text": [
      "0    443\n",
      "1    225\n",
      "2    675\n",
      "3    783\n",
      "4    594\n",
      "dtype: int64\n"
     ]
    }
   ],
   "source": [
    "#Pandas\n",
    "import numpy as np\n",
    "import pandas as pd\n",
    "s = pd.Series((443,225,675,783,594))    #creates a panda datatype s with values in it\n",
    "print(s)"
   ]
  },
  {
   "cell_type": "code",
   "execution_count": 31,
   "metadata": {},
   "outputs": [
    {
     "data": {
      "text/plain": [
       "RangeIndex(start=0, stop=5, step=1)"
      ]
     },
     "execution_count": 31,
     "metadata": {},
     "output_type": "execute_result"
    }
   ],
   "source": [
    "s.index"
   ]
  },
  {
   "cell_type": "code",
   "execution_count": 32,
   "metadata": {},
   "outputs": [
    {
     "data": {
      "text/plain": [
       "array([443, 225, 675, 783, 594])"
      ]
     },
     "execution_count": 32,
     "metadata": {},
     "output_type": "execute_result"
    }
   ],
   "source": [
    "s.values #prints the values of a panda dataset s"
   ]
  },
  {
   "cell_type": "code",
   "execution_count": 33,
   "metadata": {},
   "outputs": [
    {
     "data": {
      "text/plain": [
       "pandas.core.series.Series"
      ]
     },
     "execution_count": 33,
     "metadata": {},
     "output_type": "execute_result"
    }
   ],
   "source": [
    "type(s)"
   ]
  },
  {
   "cell_type": "code",
   "execution_count": 34,
   "metadata": {},
   "outputs": [
    {
     "data": {
      "text/plain": [
       "dtype('int64')"
      ]
     },
     "execution_count": 34,
     "metadata": {},
     "output_type": "execute_result"
    }
   ],
   "source": [
    "s.dtype"
   ]
  },
  {
   "cell_type": "code",
   "execution_count": 35,
   "metadata": {},
   "outputs": [],
   "source": [
    "s.copy?"
   ]
  },
  {
   "cell_type": "code",
   "execution_count": 36,
   "metadata": {},
   "outputs": [
    {
     "data": {
      "text/plain": [
       "544.0"
      ]
     },
     "execution_count": 36,
     "metadata": {},
     "output_type": "execute_result"
    }
   ],
   "source": [
    "s.mean()"
   ]
  },
  {
   "cell_type": "code",
   "execution_count": 37,
   "metadata": {},
   "outputs": [
    {
     "data": {
      "text/plain": [
       "594.0"
      ]
     },
     "execution_count": 37,
     "metadata": {},
     "output_type": "execute_result"
    }
   ],
   "source": [
    "s.median()"
   ]
  },
  {
   "cell_type": "code",
   "execution_count": 38,
   "metadata": {},
   "outputs": [
    {
     "data": {
      "text/plain": [
       "2720"
      ]
     },
     "execution_count": 38,
     "metadata": {},
     "output_type": "execute_result"
    }
   ],
   "source": [
    "s.sum()"
   ]
  },
  {
   "cell_type": "code",
   "execution_count": 40,
   "metadata": {},
   "outputs": [],
   "source": [
    "dataf = pd.DataFrame({'first': s+s,'second': s*s})"
   ]
  },
  {
   "cell_type": "code",
   "execution_count": 41,
   "metadata": {},
   "outputs": [
    {
     "data": {
      "text/html": [
       "<div>\n",
       "<style scoped>\n",
       "    .dataframe tbody tr th:only-of-type {\n",
       "        vertical-align: middle;\n",
       "    }\n",
       "\n",
       "    .dataframe tbody tr th {\n",
       "        vertical-align: top;\n",
       "    }\n",
       "\n",
       "    .dataframe thead th {\n",
       "        text-align: right;\n",
       "    }\n",
       "</style>\n",
       "<table border=\"1\" class=\"dataframe\">\n",
       "  <thead>\n",
       "    <tr style=\"text-align: right;\">\n",
       "      <th></th>\n",
       "      <th>first</th>\n",
       "      <th>second</th>\n",
       "    </tr>\n",
       "  </thead>\n",
       "  <tbody>\n",
       "    <tr>\n",
       "      <th>0</th>\n",
       "      <td>886</td>\n",
       "      <td>196249</td>\n",
       "    </tr>\n",
       "    <tr>\n",
       "      <th>1</th>\n",
       "      <td>450</td>\n",
       "      <td>50625</td>\n",
       "    </tr>\n",
       "    <tr>\n",
       "      <th>2</th>\n",
       "      <td>1350</td>\n",
       "      <td>455625</td>\n",
       "    </tr>\n",
       "    <tr>\n",
       "      <th>3</th>\n",
       "      <td>1566</td>\n",
       "      <td>613089</td>\n",
       "    </tr>\n",
       "    <tr>\n",
       "      <th>4</th>\n",
       "      <td>1188</td>\n",
       "      <td>352836</td>\n",
       "    </tr>\n",
       "  </tbody>\n",
       "</table>\n",
       "</div>"
      ],
      "text/plain": [
       "   first  second\n",
       "0    886  196249\n",
       "1    450   50625\n",
       "2   1350  455625\n",
       "3   1566  613089\n",
       "4   1188  352836"
      ]
     },
     "execution_count": 41,
     "metadata": {},
     "output_type": "execute_result"
    }
   ],
   "source": [
    "dataf"
   ]
  },
  {
   "cell_type": "code",
   "execution_count": 42,
   "metadata": {},
   "outputs": [
    {
     "data": {
      "text/plain": [
       "RangeIndex(start=0, stop=5, step=1)"
      ]
     },
     "execution_count": 42,
     "metadata": {},
     "output_type": "execute_result"
    }
   ],
   "source": [
    "dataf.index"
   ]
  },
  {
   "cell_type": "code",
   "execution_count": 43,
   "metadata": {},
   "outputs": [
    {
     "data": {
      "text/plain": [
       "Index(['first', 'second'], dtype='object')"
      ]
     },
     "execution_count": 43,
     "metadata": {},
     "output_type": "execute_result"
    }
   ],
   "source": [
    "dataf.columns"
   ]
  },
  {
   "cell_type": "code",
   "execution_count": 44,
   "metadata": {},
   "outputs": [
    {
     "data": {
      "text/html": [
       "<div>\n",
       "<style scoped>\n",
       "    .dataframe tbody tr th:only-of-type {\n",
       "        vertical-align: middle;\n",
       "    }\n",
       "\n",
       "    .dataframe tbody tr th {\n",
       "        vertical-align: top;\n",
       "    }\n",
       "\n",
       "    .dataframe thead th {\n",
       "        text-align: right;\n",
       "    }\n",
       "</style>\n",
       "<table border=\"1\" class=\"dataframe\">\n",
       "  <thead>\n",
       "    <tr style=\"text-align: right;\">\n",
       "      <th></th>\n",
       "      <th>first</th>\n",
       "      <th>second</th>\n",
       "    </tr>\n",
       "  </thead>\n",
       "  <tbody>\n",
       "    <tr>\n",
       "      <th>count</th>\n",
       "      <td>5.000000</td>\n",
       "      <td>5.00000</td>\n",
       "    </tr>\n",
       "    <tr>\n",
       "      <th>mean</th>\n",
       "      <td>1088.000000</td>\n",
       "      <td>333684.80000</td>\n",
       "    </tr>\n",
       "    <tr>\n",
       "      <th>std</th>\n",
       "      <td>434.446775</td>\n",
       "      <td>219268.29303</td>\n",
       "    </tr>\n",
       "    <tr>\n",
       "      <th>min</th>\n",
       "      <td>450.000000</td>\n",
       "      <td>50625.00000</td>\n",
       "    </tr>\n",
       "    <tr>\n",
       "      <th>25%</th>\n",
       "      <td>886.000000</td>\n",
       "      <td>196249.00000</td>\n",
       "    </tr>\n",
       "    <tr>\n",
       "      <th>50%</th>\n",
       "      <td>1188.000000</td>\n",
       "      <td>352836.00000</td>\n",
       "    </tr>\n",
       "    <tr>\n",
       "      <th>75%</th>\n",
       "      <td>1350.000000</td>\n",
       "      <td>455625.00000</td>\n",
       "    </tr>\n",
       "    <tr>\n",
       "      <th>max</th>\n",
       "      <td>1566.000000</td>\n",
       "      <td>613089.00000</td>\n",
       "    </tr>\n",
       "  </tbody>\n",
       "</table>\n",
       "</div>"
      ],
      "text/plain": [
       "             first        second\n",
       "count     5.000000       5.00000\n",
       "mean   1088.000000  333684.80000\n",
       "std     434.446775  219268.29303\n",
       "min     450.000000   50625.00000\n",
       "25%     886.000000  196249.00000\n",
       "50%    1188.000000  352836.00000\n",
       "75%    1350.000000  455625.00000\n",
       "max    1566.000000  613089.00000"
      ]
     },
     "execution_count": 44,
     "metadata": {},
     "output_type": "execute_result"
    }
   ],
   "source": [
    "dataf.describe()"
   ]
  },
  {
   "cell_type": "code",
   "execution_count": 45,
   "metadata": {},
   "outputs": [
    {
     "data": {
      "text/plain": [
       "0     886\n",
       "1     450\n",
       "2    1350\n",
       "3    1566\n",
       "4    1188\n",
       "dtype: int64"
      ]
     },
     "execution_count": 45,
     "metadata": {},
     "output_type": "execute_result"
    }
   ],
   "source": [
    "dataf.apply(min,axis = 1)\n"
   ]
  },
  {
   "cell_type": "code",
   "execution_count": null,
   "metadata": {},
   "outputs": [],
   "source": []
  }
 ],
 "metadata": {
  "kernelspec": {
   "display_name": "Python 3",
   "language": "python",
   "name": "python3"
  },
  "language_info": {
   "codemirror_mode": {
    "name": "ipython",
    "version": 3
   },
   "file_extension": ".py",
   "mimetype": "text/x-python",
   "name": "python",
   "nbconvert_exporter": "python",
   "pygments_lexer": "ipython3",
   "version": "3.7.0"
  }
 },
 "nbformat": 4,
 "nbformat_minor": 2
}
